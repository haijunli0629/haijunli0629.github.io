{
 "cells": [
  {
   "cell_type": "markdown",
   "metadata": {},
   "source": [
    "# Leaflet cluster map of talk locations\n",
    "\n",
    "Assuming you are working in a Linux or Windows Subsystem for Linux environment, you may need to install some dependencies. Assuming a clean installation, the following will be needed:\n",
    "\n",
    "```bash\n",
    "sudo apt install jupyter\n",
    "sudo apt install python3-pip\n",
    "pip install python-frontmatter getorg --upgrade\n",
    "```\n",
    "\n",
    "After which you can run this from the `_talks/` directory, via:\n",
    "\n",
    "```bash\n",
    " jupyter nbconvert --to notebook --execute talkmap.ipynb --output talkmap_out.ipynb\n",
    "```\n",
    " \n",
    "The `_talks/` directory contains `.md` files of all your talks. This scrapes the location YAML field from each `.md` file, geolocates it with `geopy/Nominatim`, and uses the `getorg` library to output data, HTML, and Javascript for a standalone cluster map."
   ]
  },
  {
   "cell_type": "code",
   "execution_count": 3,
   "metadata": {
    "collapsed": false,
    "jupyter": {
     "outputs_hidden": false
    }
   },
   "outputs": [
    {
     "name": "stdout",
     "output_type": "stream",
     "text": [
      "Collecting python-frontmatter\n",
      "  Downloading python_frontmatter-1.1.0-py3-none-any.whl.metadata (4.1 kB)\n",
      "Collecting getorg\n",
      "  Downloading getorg-0.3.1-py2.py3-none-any.whl.metadata (326 bytes)\n",
      "Requirement already satisfied: ipykernel in c:\\users\\haijunli\\anaconda3\\envs\\s2\\lib\\site-packages (6.15.2)\n",
      "Collecting ipykernel\n",
      "  Downloading ipykernel-6.16.2-py3-none-any.whl.metadata (5.6 kB)\n",
      "Requirement already satisfied: PyYAML in c:\\users\\haijunli\\anaconda3\\envs\\s2\\lib\\site-packages (from python-frontmatter) (6.0)\n",
      "Collecting geopy (from getorg)\n",
      "  Downloading geopy-2.4.1-py3-none-any.whl.metadata (6.8 kB)\n",
      "Collecting pygithub (from getorg)\n",
      "  Downloading PyGithub-2.3.0-py3-none-any.whl.metadata (3.8 kB)\n",
      "Collecting retrying (from getorg)\n",
      "  Downloading retrying-1.4.2-py3-none-any.whl.metadata (5.5 kB)\n",
      "Requirement already satisfied: debugpy>=1.0 in c:\\users\\haijunli\\anaconda3\\envs\\s2\\lib\\site-packages (from ipykernel) (1.5.1)\n",
      "Requirement already satisfied: ipython>=7.23.1 in c:\\users\\haijunli\\anaconda3\\envs\\s2\\lib\\site-packages (from ipykernel) (7.31.1)\n",
      "Requirement already satisfied: jupyter-client>=6.1.12 in c:\\users\\haijunli\\anaconda3\\envs\\s2\\lib\\site-packages (from ipykernel) (7.1.2)\n",
      "Requirement already satisfied: matplotlib-inline>=0.1 in c:\\users\\haijunli\\anaconda3\\envs\\s2\\lib\\site-packages (from ipykernel) (0.1.6)\n",
      "Requirement already satisfied: nest-asyncio in c:\\users\\haijunli\\anaconda3\\envs\\s2\\lib\\site-packages (from ipykernel) (1.5.5)\n",
      "Requirement already satisfied: packaging in c:\\users\\haijunli\\anaconda3\\envs\\s2\\lib\\site-packages (from ipykernel) (21.3)\n",
      "Requirement already satisfied: psutil in c:\\users\\haijunli\\anaconda3\\envs\\s2\\lib\\site-packages (from ipykernel) (5.9.0)\n",
      "Requirement already satisfied: pyzmq>=17 in c:\\users\\haijunli\\anaconda3\\envs\\s2\\lib\\site-packages (from ipykernel) (23.2.0)\n",
      "Requirement already satisfied: tornado>=6.1 in c:\\users\\haijunli\\anaconda3\\envs\\s2\\lib\\site-packages (from ipykernel) (6.1)\n",
      "Requirement already satisfied: traitlets>=5.1.0 in c:\\users\\haijunli\\anaconda3\\envs\\s2\\lib\\site-packages (from ipykernel) (5.1.1)\n",
      "Requirement already satisfied: setuptools>=18.5 in c:\\users\\haijunli\\anaconda3\\envs\\s2\\lib\\site-packages (from ipython>=7.23.1->ipykernel) (58.0.4)\n",
      "Requirement already satisfied: jedi>=0.16 in c:\\users\\haijunli\\anaconda3\\envs\\s2\\lib\\site-packages (from ipython>=7.23.1->ipykernel) (0.18.1)\n",
      "Requirement already satisfied: decorator in c:\\users\\haijunli\\anaconda3\\envs\\s2\\lib\\site-packages (from ipython>=7.23.1->ipykernel) (5.1.1)\n",
      "Requirement already satisfied: pickleshare in c:\\users\\haijunli\\anaconda3\\envs\\s2\\lib\\site-packages (from ipython>=7.23.1->ipykernel) (0.7.5)\n",
      "Requirement already satisfied: prompt-toolkit!=3.0.0,!=3.0.1,<3.1.0,>=2.0.0 in c:\\users\\haijunli\\anaconda3\\envs\\s2\\lib\\site-packages (from ipython>=7.23.1->ipykernel) (3.0.20)\n",
      "Requirement already satisfied: pygments in c:\\users\\haijunli\\anaconda3\\envs\\s2\\lib\\site-packages (from ipython>=7.23.1->ipykernel) (2.17.2)\n",
      "Requirement already satisfied: backcall in c:\\users\\haijunli\\anaconda3\\envs\\s2\\lib\\site-packages (from ipython>=7.23.1->ipykernel) (0.2.0)\n",
      "Requirement already satisfied: colorama in c:\\users\\haijunli\\anaconda3\\envs\\s2\\lib\\site-packages (from ipython>=7.23.1->ipykernel) (0.4.4)\n",
      "Requirement already satisfied: entrypoints in c:\\users\\haijunli\\anaconda3\\envs\\s2\\lib\\site-packages (from jupyter-client>=6.1.12->ipykernel) (0.4)\n",
      "Requirement already satisfied: jupyter-core>=4.6.0 in c:\\users\\haijunli\\anaconda3\\envs\\s2\\lib\\site-packages (from jupyter-client>=6.1.12->ipykernel) (4.11.1)\n",
      "Requirement already satisfied: python-dateutil>=2.1 in c:\\users\\haijunli\\anaconda3\\envs\\s2\\lib\\site-packages (from jupyter-client>=6.1.12->ipykernel) (2.8.2)\n",
      "Requirement already satisfied: geographiclib<3,>=1.52 in c:\\users\\haijunli\\anaconda3\\envs\\s2\\lib\\site-packages (from geopy->getorg) (1.52)\n",
      "Requirement already satisfied: pyparsing!=3.0.5,>=2.0.2 in c:\\users\\haijunli\\anaconda3\\envs\\s2\\lib\\site-packages (from packaging->ipykernel) (3.0.4)\n",
      "Collecting pynacl>=1.4.0 (from pygithub->getorg)\n",
      "  Downloading PyNaCl-1.5.0-cp36-abi3-win_amd64.whl.metadata (8.7 kB)\n",
      "Requirement already satisfied: requests>=2.14.0 in c:\\users\\haijunli\\anaconda3\\envs\\s2\\lib\\site-packages (from pygithub->getorg) (2.26.0)\n",
      "Collecting pyjwt>=2.4.0 (from pyjwt[crypto]>=2.4.0->pygithub->getorg)\n",
      "  Downloading PyJWT-2.8.0-py3-none-any.whl.metadata (4.2 kB)\n",
      "Requirement already satisfied: typing-extensions>=4.0.0 in c:\\users\\haijunli\\anaconda3\\envs\\s2\\lib\\site-packages (from pygithub->getorg) (4.7.1)\n",
      "Requirement already satisfied: urllib3>=1.26.0 in c:\\users\\haijunli\\anaconda3\\envs\\s2\\lib\\site-packages (from pygithub->getorg) (1.26.7)\n",
      "Collecting Deprecated (from pygithub->getorg)\n",
      "  Downloading Deprecated-1.2.18-py2.py3-none-any.whl.metadata (5.7 kB)\n",
      "Requirement already satisfied: parso<0.9.0,>=0.8.0 in c:\\users\\haijunli\\anaconda3\\envs\\s2\\lib\\site-packages (from jedi>=0.16->ipython>=7.23.1->ipykernel) (0.8.3)\n",
      "Requirement already satisfied: pywin32>=1.0 in c:\\users\\haijunli\\anaconda3\\envs\\s2\\lib\\site-packages (from jupyter-core>=4.6.0->jupyter-client>=6.1.12->ipykernel) (302)\n",
      "Requirement already satisfied: wcwidth in c:\\users\\haijunli\\anaconda3\\envs\\s2\\lib\\site-packages (from prompt-toolkit!=3.0.0,!=3.0.1,<3.1.0,>=2.0.0->ipython>=7.23.1->ipykernel) (0.2.5)\n",
      "Requirement already satisfied: cryptography>=3.4.0 in c:\\users\\haijunli\\anaconda3\\envs\\s2\\lib\\site-packages (from pyjwt[crypto]>=2.4.0->pygithub->getorg) (35.0.0)\n",
      "Requirement already satisfied: cffi>=1.4.1 in c:\\users\\haijunli\\anaconda3\\envs\\s2\\lib\\site-packages (from pynacl>=1.4.0->pygithub->getorg) (1.14.6)\n",
      "Requirement already satisfied: six>=1.5 in c:\\users\\haijunli\\anaconda3\\envs\\s2\\lib\\site-packages (from python-dateutil>=2.1->jupyter-client>=6.1.12->ipykernel) (1.16.0)\n",
      "Requirement already satisfied: certifi>=2017.4.17 in c:\\users\\haijunli\\anaconda3\\envs\\s2\\lib\\site-packages (from requests>=2.14.0->pygithub->getorg) (2020.6.20)\n",
      "Requirement already satisfied: charset-normalizer~=2.0.0 in c:\\users\\haijunli\\anaconda3\\envs\\s2\\lib\\site-packages (from requests>=2.14.0->pygithub->getorg) (2.0.4)\n",
      "Requirement already satisfied: idna<4,>=2.5 in c:\\users\\haijunli\\anaconda3\\envs\\s2\\lib\\site-packages (from requests>=2.14.0->pygithub->getorg) (3.3)\n",
      "Collecting wrapt<2,>=1.10 (from Deprecated->pygithub->getorg)\n",
      "  Downloading wrapt-1.16.0-cp37-cp37m-win_amd64.whl.metadata (6.8 kB)\n",
      "Requirement already satisfied: pycparser in c:\\users\\haijunli\\anaconda3\\envs\\s2\\lib\\site-packages (from cffi>=1.4.1->pynacl>=1.4.0->pygithub->getorg) (2.21)\n",
      "Downloading python_frontmatter-1.1.0-py3-none-any.whl (9.8 kB)\n",
      "Downloading getorg-0.3.1-py2.py3-none-any.whl (39 kB)\n",
      "Downloading ipykernel-6.16.2-py3-none-any.whl (138 kB)\n",
      "   ---------------------------------------- 138.5/138.5 kB 8.0 MB/s eta 0:00:00\n",
      "Downloading geopy-2.4.1-py3-none-any.whl (125 kB)\n",
      "   ---------------------------------------- 125.4/125.4 kB 7.2 MB/s eta 0:00:00\n",
      "Downloading PyGithub-2.3.0-py3-none-any.whl (354 kB)\n",
      "   --------------------------------------- 354.4/354.4 kB 21.5 MB/s eta 0:00:00\n",
      "Downloading retrying-1.4.2-py3-none-any.whl (10 kB)\n",
      "Downloading PyJWT-2.8.0-py3-none-any.whl (22 kB)\n",
      "Downloading PyNaCl-1.5.0-cp36-abi3-win_amd64.whl (212 kB)\n",
      "   --------------------------------------- 212.1/212.1 kB 13.5 MB/s eta 0:00:00\n",
      "Downloading Deprecated-1.2.18-py2.py3-none-any.whl (10.0 kB)\n",
      "Downloading wrapt-1.16.0-cp37-cp37m-win_amd64.whl (37 kB)\n",
      "Installing collected packages: wrapt, retrying, python-frontmatter, pyjwt, geopy, pynacl, Deprecated, ipykernel, pygithub, getorg\n",
      "  Attempting uninstall: pyjwt\n",
      "    Found existing installation: PyJWT 2.3.0\n",
      "    Uninstalling PyJWT-2.3.0:\n",
      "      Successfully uninstalled PyJWT-2.3.0\n",
      "  Attempting uninstall: ipykernel\n",
      "    Found existing installation: ipykernel 6.15.2\n",
      "    Uninstalling ipykernel-6.15.2:\n",
      "      Successfully uninstalled ipykernel-6.15.2\n",
      "Successfully installed Deprecated-1.2.18 geopy-2.4.1 getorg-0.3.1 ipykernel-6.16.2 pygithub-2.3.0 pyjwt-2.8.0 pynacl-1.5.0 python-frontmatter-1.1.0 retrying-1.4.2 wrapt-1.16.0\n",
      "IPywidgets and ipyleaflet support enabled.\n"
     ]
    }
   ],
   "source": [
    "# Start by installing the dependencies\n",
    "!pip install python-frontmatter getorg --upgrade ipykernel\n",
    "import frontmatter\n",
    "import glob\n",
    "import getorg\n",
    "from geopy import Nominatim\n",
    "from geopy.exc import GeocoderTimedOut"
   ]
  },
  {
   "cell_type": "code",
   "execution_count": 4,
   "metadata": {},
   "outputs": [],
   "source": [
    "import glob"
   ]
  },
  {
   "cell_type": "code",
   "execution_count": 6,
   "metadata": {
    "collapsed": false,
    "jupyter": {
     "outputs_hidden": false
    }
   },
   "outputs": [
    {
     "data": {
      "text/plain": [
       "['_talks\\\\2022-12-AGU-1.md',\n",
       " '_talks\\\\2022-12-AGU-2.md',\n",
       " '_talks\\\\2023-03-AAG.md',\n",
       " '_talks\\\\2023-07-Aeolian.md',\n",
       " '_talks\\\\2023-12-AGU.md',\n",
       " '_talks\\\\2024-12-AGU-1.md',\n",
       " '_talks\\\\2024-12-AGU-2.md',\n",
       " '_talks\\\\2024-12-AGU-3.md',\n",
       " '_talks\\\\2024-12-AGU-4.md']"
      ]
     },
     "execution_count": 6,
     "metadata": {},
     "output_type": "execute_result"
    }
   ],
   "source": [
    "# Collect the Markdown files\n",
    "g = glob.glob(\"_talks/*.md\")\n",
    "g"
   ]
  },
  {
   "cell_type": "code",
   "execution_count": 8,
   "metadata": {
    "tags": []
   },
   "outputs": [],
   "source": [
    "# Set the default timeout, in seconds\n",
    "TIMEOUT = 5\n",
    "\n",
    "# Prepare to geolocate\n",
    "geocoder = Nominatim(user_agent=\"haijunli0629.github.io\")\n",
    "location_dict = {}\n",
    "location = \"\"\n",
    "permalink = \"\"\n",
    "title = \"\""
   ]
  },
  {
   "cell_type": "code",
   "execution_count": 10,
   "metadata": {},
   "outputs": [
    {
     "data": {
      "text/plain": [
       "{'title': 'Development of a 10 m Resolution Maize and Soybean Map Over China',\n",
       " 'collection': 'talks',\n",
       " 'type': 'American Geophysical Union Fall Meeting 2022',\n",
       " 'permalink': '/talks/2022-12-AGU-1',\n",
       " 'venue': '',\n",
       " 'date': datetime.date(2022, 12, 13),\n",
       " 'location': 'Chicago, Illinois, USA',\n",
       " 'citation': '<b>Li, H.</b>, Song, X.P., Hansen, M.C., Becker-Reshef, I., Adusei, B., Pickering, J., Wang, L., Wang, L., Lin, Z., Zalles, V., Potapov, P., Stehman, S.V. & Justice, C.O. (2022). Development of a 10 m Resolution Maize and Soybean Map Over China. <i>AGU Fall Meeting</i>, Abstract GC23A-03, December 11-15, Chicago, Illinois, USA.',\n",
       " 'content': 'Spatially explicit crop information is essential for food security and agricultural sustainability. However, high-resolution crop type maps are unavailable in most countries. In this study, we developed an experimental workflow and produced the first 10 m resolution maize and soybean map over China. To support crop mapping, we implemented a stratified, two-stage, cluster sampling design and collected ground data over the entire country in 2019. We developed a multi-scale, multi-temporal procedure for mapping, in which field data were used as training to map maize and soybean over the first-stage samples (10 km × 10 km equal-area blocks) with PlanetScope and Sentinel-2 data. Then, the classified blocks were used as training to map maize and soybean over the country with wall-to-wall Sentinel-2 data and random forests. We used all available Sentinel-2 surface reflectance data acquired between April and October, 2019 and created monthly image composites as inputs for random forests. We derived in-season maize and soybean area estimates using the statistical field survey data and a regression estimator. Utilizing the probability output layer of random forests models, we found and applied empirical probability thresholds that matched map-based and sample-based area estimates. Maize area was estimated to be 330,609 ± 34,109 km2, and soybean area was estimated to be 78,107 ± 12,969 km2. Validated using the field samples as reference, our crop type map had an overall accuracy of 91.8 ± 1.2%. The user’s and producer’s accuracy for the maize class were 93.9 ± 2.5% and 79.2 ± 3.6%, respectively, and for the soybean class were 63.6 ± 12.1% and 61.9 ± 11.8%, respectively. Our map-based maize and soybean area estimates had close agreements with government reports at the provincial and prefectural levels, with r2 of 0.90 and 0.92 for maize, and 0.93 and 0.94 for soybean, respectively. Our experimental workflow can generate harmonized results for crop area estimation and crop type mapping simultaneously, within the growing season, and independent from government statistics. As Sentinel-2 data are being acquired consistently and very-high-resolution commercial satellite data are increasingly available, our established workflow may be applied in an operational setting for annual crop type mapping in China and other countries.\\n\\n<b>Li, H.</b>, Song, X.P., Hansen, M.C., Becker-Reshef, I., Adusei, B., Pickering, J., Wang, L., Wang, L., Lin, Z., Zalles, V., Potapov, P., Stehman, S.V. & Justice, C.O. (2022). <a href=\"https://agu.confex.com/agu/fm22/meetingapp.cgi/Paper/1079673\" target=\"_blank\" rel=\"noopener noreferrer\">Development of a 10 m Resolution Maize and Soybean Map Over China.</a> <i>AGU Fall Meeting</i>, Abstract GC23A-03, December 11-15, Chicago, Illinois, USA.'}"
      ]
     },
     "execution_count": 10,
     "metadata": {},
     "output_type": "execute_result"
    }
   ],
   "source": [
    "# Read the file\n",
    "file = g[0]\n",
    "data = frontmatter.load(file)\n",
    "data = data.to_dict()\n",
    "data"
   ]
  },
  {
   "cell_type": "markdown",
   "metadata": {},
   "source": [
    "In the event that this times out with an error, double check to make sure that the location is can be properly geolocated."
   ]
  },
  {
   "cell_type": "code",
   "execution_count": 11,
   "metadata": {
    "collapsed": false,
    "jupyter": {
     "outputs_hidden": false
    }
   },
   "outputs": [
    {
     "name": "stdout",
     "output_type": "stream",
     "text": [
      "Development of a 10 m Resolution Maize and Soybean Map Over China<br />; Chicago, Illinois, USA Chicago, Cook County, Illinois, United States\n",
      "Crop Type and Yield Mapping Using Long-term Satellite Observations, Weather and Field Data<br />; Chicago, Illinois, USA Chicago, Cook County, Illinois, United States\n",
      "Testing global stilling with ERA5 reanalysis data<br />; Denver, Colorado, USA Denver, Colorado, United States\n",
      "Decadal Changes in Relative Aeolian Transport Potential in Major Global Dust Source Regions<br />; Las Cruces, New Mexico, USA Las Cruces, Doña Ana County, New Mexico, United States\n",
      "10-m Crop Mapping Using Satellite Data, Field Survey and Machine Learning over North America<br />; San Franscico, California, USA None\n",
      "Advancing 10-m Crop Mapping Using All Sentinel-2 Observations over the Contiguous United States<br />; Washington, D.C., USA Washington, District of Columbia, United States\n",
      "Mapping multiple crops of multiple seasons: a 30 m national crop map of Paraguay derived from the Harmonized Landsat and Sentinel-2 (HLS) data and stratified random sampling<br />; Washington, D.C., USA Washington, District of Columbia, United States\n",
      "Detecting Oil and Gas Land Dynamics in the Permian Basin by Using Deep Learning and Very High-resolution Aerial Images<br />; Washington, D.C., USA Washington, District of Columbia, United States\n",
      "Defining and Mapping Tropical Dryland Woody Cover: A Comparative Study using Drone Data in Senegal<br />; Washington, D.C., USA Washington, District of Columbia, United States\n"
     ]
    }
   ],
   "source": [
    "# Perform geolocation\n",
    "for file in g:\n",
    "    # Read the file\n",
    "    data = frontmatter.load(file)\n",
    "    data = data.to_dict()\n",
    "\n",
    "    # Press on if the location is not present\n",
    "    if 'location' not in data:\n",
    "        continue\n",
    "\n",
    "    # Prepare the description\n",
    "    title = data['title'].strip()\n",
    "    venue = data['venue'].strip()\n",
    "    location = data['location'].strip()\n",
    "    description = f\"{title}<br />{venue}; {location}\"\n",
    "\n",
    "    # Geocode the location and report the status\n",
    "    try:\n",
    "        location_dict[description] = geocoder.geocode(location, timeout=TIMEOUT)\n",
    "        print(description, location_dict[description])\n",
    "    except ValueError as ex:\n",
    "        print(f\"Error: geocode failed on input {location} with message {ex}\")\n",
    "    except GeocoderTimedOut as ex:\n",
    "        print(f\"Error: geocode timed out on input {location} with message {ex}\")\n",
    "    except Exception as ex:\n",
    "        print(f\"An unhandled exception occurred while processing input {location} with message {ex}\")"
   ]
  },
  {
   "cell_type": "code",
   "execution_count": 12,
   "metadata": {
    "collapsed": false,
    "jupyter": {
     "outputs_hidden": false
    }
   },
   "outputs": [
    {
     "data": {
      "text/plain": [
       "'Written map to talkmap/'"
      ]
     },
     "execution_count": 12,
     "metadata": {},
     "output_type": "execute_result"
    }
   ],
   "source": [
    "# Save the map\n",
    "m = getorg.orgmap.create_map_obj()\n",
    "getorg.orgmap.output_html_cluster_map(location_dict, folder_name=\"talkmap\", hashed_usernames=False)"
   ]
  },
  {
   "cell_type": "code",
   "execution_count": null,
   "metadata": {
    "collapsed": true,
    "jupyter": {
     "outputs_hidden": true
    }
   },
   "outputs": [],
   "source": []
  }
 ],
 "metadata": {
  "anaconda-cloud": {},
  "kernelspec": {
   "display_name": "Python 3",
   "language": "python",
   "name": "python3"
  },
  "language_info": {
   "codemirror_mode": {
    "name": "ipython",
    "version": 3
   },
   "file_extension": ".py",
   "mimetype": "text/x-python",
   "name": "python",
   "nbconvert_exporter": "python",
   "pygments_lexer": "ipython3",
   "version": "3.13.5"
  }
 },
 "nbformat": 4,
 "nbformat_minor": 4
}
